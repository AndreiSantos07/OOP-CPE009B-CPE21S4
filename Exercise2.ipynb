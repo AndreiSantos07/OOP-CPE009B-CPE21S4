{
  "nbformat": 4,
  "nbformat_minor": 0,
  "metadata": {
    "colab": {
      "provenance": [],
      "authorship_tag": "ABX9TyNF5Pr77lfzP9G4GmlRqmCz",
      "include_colab_link": true
    },
    "kernelspec": {
      "name": "python3",
      "display_name": "Python 3"
    },
    "language_info": {
      "name": "python"
    }
  },
  "cells": [
    {
      "cell_type": "markdown",
      "metadata": {
        "id": "view-in-github",
        "colab_type": "text"
      },
      "source": [
        "<a href=\"https://colab.research.google.com/github/AndreiSantos07/OOP-CPE009B-CPE21S4/blob/main/Exercise2.ipynb\" target=\"_parent\"><img src=\"https://colab.research.google.com/assets/colab-badge.svg\" alt=\"Open In Colab\"/></a>"
      ]
    },
    {
      "cell_type": "code",
      "execution_count": 5,
      "metadata": {
        "colab": {
          "base_uri": "https://localhost:8080/"
        },
        "id": "y2be-DKEWPOm",
        "outputId": "b5d47554-6e6a-4a58-bb07-c741ee8d1bf7"
      },
      "outputs": [
        {
          "output_type": "stream",
          "name": "stdout",
          "text": [
            "The value of a is :  3\n",
            "The value of b is :  4\n",
            "7\n"
          ]
        }
      ],
      "source": [
        "#Example # 1\n",
        "\n",
        "class foo:\n",
        "  def __init__(self, a, b):\n",
        "    self._a = a\n",
        "    self.b = b\n",
        "  def add(self):\n",
        "    return self._a + self.b\n",
        "foo_object = foo(3, 4)\n",
        "print(\"The value of a is : \", foo_object._a)\n",
        "print(\"The value of b is : \", foo_object.b)\n",
        "print(foo_object.add())"
      ]
    },
    {
      "cell_type": "code",
      "source": [
        "#Example 2 (With one underscore)\n",
        "\n",
        "#Complete the program by adding object name and\n",
        "\n",
        "#Print output variable that display instance/behavior of every function\n",
        "\n",
        "#Apply encapsulation by typing _ single underscore for private variable\n",
        "\n",
        "class Counter:\n",
        "  def __init__(self):\n",
        "    self._current = 0\n",
        "\n",
        "  def increment(self):\n",
        "    self._current += 1 #assingment operator. similarly to self.current = self.current += 1\n",
        "    return self._current\n",
        "\n",
        "  def value(self):\n",
        "    return self._current\n",
        "\n",
        "  def reset(self):\n",
        "    self.__current = 0\n",
        "\n",
        "count = Counter()\n",
        "print(count._current)\n",
        "print(count.increment())\n",
        "print(count.value())\n",
        "print(count.reset())"
      ],
      "metadata": {
        "colab": {
          "base_uri": "https://localhost:8080/"
        },
        "id": "sl1gBEpae2fp",
        "outputId": "fc1830f3-4ee4-456e-c763-af90744cd488"
      },
      "execution_count": 3,
      "outputs": [
        {
          "output_type": "stream",
          "name": "stdout",
          "text": [
            "0\n",
            "1\n",
            "1\n",
            "None\n"
          ]
        }
      ]
    },
    {
      "cell_type": "code",
      "source": [
        "#Example 2 (With two underscores)\n",
        "\n",
        "#Complete the program by adding object name and\n",
        "\n",
        "#Print output variable that display instance/behavior of every function\n",
        "\n",
        "#Apply encapsulation by typing _ single underscore for private variable\n",
        "\n",
        "class Counter:\n",
        "  def __init__(self):\n",
        "    self.__current = 0\n",
        "\n",
        "  def increment(self):\n",
        "    self._current += 1 #assingment operator. similarly to self.current = self.current += 1\n",
        "    return self.__current\n",
        "\n",
        "  def value(self):\n",
        "    return self.__current\n",
        "\n",
        "  def reset(self):\n",
        "    self.__current = 0\n",
        "\n",
        "count = Counter()\n",
        "print(count.__current)\n",
        "print(count.increment())\n",
        "print(count.value())\n",
        "print(count.reset())"
      ],
      "metadata": {
        "colab": {
          "base_uri": "https://localhost:8080/",
          "height": 219
        },
        "id": "sJusnKHGZnhm",
        "outputId": "7b342253-5390-4f9d-dc45-96bb05df83a5"
      },
      "execution_count": 4,
      "outputs": [
        {
          "output_type": "error",
          "ename": "AttributeError",
          "evalue": "'Counter' object has no attribute '__current'",
          "traceback": [
            "\u001b[0;31m---------------------------------------------------------------------------\u001b[0m",
            "\u001b[0;31mAttributeError\u001b[0m                            Traceback (most recent call last)",
            "\u001b[0;32m<ipython-input-4-dfee91c08c7f>\u001b[0m in \u001b[0;36m<cell line: 24>\u001b[0;34m()\u001b[0m\n\u001b[1;32m     22\u001b[0m \u001b[0;34m\u001b[0m\u001b[0m\n\u001b[1;32m     23\u001b[0m \u001b[0mcount\u001b[0m \u001b[0;34m=\u001b[0m \u001b[0mCounter\u001b[0m\u001b[0;34m(\u001b[0m\u001b[0;34m)\u001b[0m\u001b[0;34m\u001b[0m\u001b[0;34m\u001b[0m\u001b[0m\n\u001b[0;32m---> 24\u001b[0;31m \u001b[0mprint\u001b[0m\u001b[0;34m(\u001b[0m\u001b[0mcount\u001b[0m\u001b[0;34m.\u001b[0m\u001b[0m__current\u001b[0m\u001b[0;34m)\u001b[0m\u001b[0;34m\u001b[0m\u001b[0;34m\u001b[0m\u001b[0m\n\u001b[0m\u001b[1;32m     25\u001b[0m \u001b[0mprint\u001b[0m\u001b[0;34m(\u001b[0m\u001b[0mcount\u001b[0m\u001b[0;34m.\u001b[0m\u001b[0mincrement\u001b[0m\u001b[0;34m(\u001b[0m\u001b[0;34m)\u001b[0m\u001b[0;34m)\u001b[0m\u001b[0;34m\u001b[0m\u001b[0;34m\u001b[0m\u001b[0m\n\u001b[1;32m     26\u001b[0m \u001b[0mprint\u001b[0m\u001b[0;34m(\u001b[0m\u001b[0mcount\u001b[0m\u001b[0;34m.\u001b[0m\u001b[0mvalue\u001b[0m\u001b[0;34m(\u001b[0m\u001b[0;34m)\u001b[0m\u001b[0;34m)\u001b[0m\u001b[0;34m\u001b[0m\u001b[0;34m\u001b[0m\u001b[0m\n",
            "\u001b[0;31mAttributeError\u001b[0m: 'Counter' object has no attribute '__current'"
          ]
        }
      ]
    }
  ]
}