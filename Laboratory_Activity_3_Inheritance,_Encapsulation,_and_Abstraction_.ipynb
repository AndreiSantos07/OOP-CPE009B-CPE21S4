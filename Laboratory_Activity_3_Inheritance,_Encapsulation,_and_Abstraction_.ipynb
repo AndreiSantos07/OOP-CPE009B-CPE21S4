{
  "nbformat": 4,
  "nbformat_minor": 0,
  "metadata": {
    "colab": {
      "provenance": [],
      "authorship_tag": "ABX9TyPj3otiJVm4KCqXU6XXr28C",
      "include_colab_link": true
    },
    "kernelspec": {
      "name": "python3",
      "display_name": "Python 3"
    },
    "language_info": {
      "name": "python"
    }
  },
  "cells": [
    {
      "cell_type": "markdown",
      "metadata": {
        "id": "view-in-github",
        "colab_type": "text"
      },
      "source": [
        "<a href=\"https://colab.research.google.com/github/AndreiSantos07/OOP-CPE009B-CPE21S4/blob/main/Laboratory_Activity_3_Inheritance%2C_Encapsulation%2C_and_Abstraction_.ipynb\" target=\"_parent\"><img src=\"https://colab.research.google.com/assets/colab-badge.svg\" alt=\"Open In Colab\"/></a>"
      ]
    },
    {
      "cell_type": "code",
      "execution_count": 36,
      "metadata": {
        "colab": {
          "base_uri": "https://localhost:8080/"
        },
        "id": "YcxiWG8_wJEf",
        "outputId": "2901b4f7-e5ec-435d-cddd-e3e7691b0460"
      },
      "outputs": [
        {
          "output_type": "stream",
          "name": "stdout",
          "text": [
            "Details for the Employee 1 (Full-time): \n",
            "  ID: 123456\n",
            "  Name: John Michael Doe\n",
            "  Address: Golden Street Quezon City\n",
            "  Allowance: 5000\n",
            "  Rate: 600\n",
            "  Salary: 5600\n",
            "  Cut-off Date: 09/30/2024\n",
            "  Days Off Work: 30\n",
            "\n",
            "Details for the Employee 2 (Part-time): \n",
            "  ID: 654321\n",
            "  Name: Jane Maria Smith\n",
            "  Address: Silver Street Quezon City\n",
            "  Rate: 700\n",
            "  Salary: 700\n",
            "  Cut-off Date: 09/15/2024\n",
            "  Days Off Work: 15\n"
          ]
        }
      ],
      "source": [
        "class Employee:\n",
        "    def __init__(self, emp_id, emp_name, emp_address):\n",
        "        self.__emp_id = emp_id\n",
        "        self.__emp_name = emp_name\n",
        "        self.__emp_address = emp_address\n",
        "\n",
        "class Ftime(Employee):\n",
        "    def __init__(self, emp_id, emp_name, emp_address, allowance, rate):\n",
        "        super().__init__(emp_id, emp_name, emp_address)\n",
        "        self.__allowance = allowance\n",
        "        self.__rate = rate\n",
        "\n",
        "class Ptime(Employee):\n",
        "    def __init__(self, emp_id, emp_name, emp_address, rate):\n",
        "        super().__init__(emp_id, emp_name, emp_address)\n",
        "        self.__rate = rate\n",
        "\n",
        "class Salary:\n",
        "    def __init__(self, salary_id, Salary, cut_off_date, days_off_work):\n",
        "        self.__salary_id = salary_id\n",
        "        self.__Salary = Salary\n",
        "        self.__cut_off_date = cut_off_date\n",
        "        self.__days_off_work = days_off_work\n",
        "\n",
        "\n",
        "fulltime_emp = Ftime(emp_id = \"123456\",\n",
        "                     emp_name = \"John Michael Doe\",\n",
        "                     emp_address = \"Golden Street Quezon City\",\n",
        "                     allowance = 5000, rate = 600)\n",
        "\n",
        "parttime_emp = Ptime(emp_id=\"654321\",\n",
        "                     emp_name=\"Jane Maria Smith\",\n",
        "                     emp_address=\"Silver Street Quezon City\",\n",
        "                     rate = 700)\n",
        "\n",
        "ftime_salary = Salary(salary_id=\"a1b2c3d4\",\n",
        "                      Salary=(fulltime_emp._Ftime__allowance + fulltime_emp._Ftime__rate),\n",
        "                      cut_off_date=\"09/30/2024\",\n",
        "                      days_off_work=30)\n",
        "\n",
        "ptime_salary = Salary(salary_id=\"e5d4c3b2a1\",\n",
        "                      Salary=parttime_emp._Ptime__rate,\n",
        "                      cut_off_date=\"09/15/2024\",\n",
        "                      days_off_work=15)\n",
        "\n",
        "print(\"Details for the Employee 1 (Full-time): \")\n",
        "print(f\"  ID: {fulltime_emp._Employee__emp_id}\")\n",
        "print(f\"  Name: {fulltime_emp._Employee__emp_name}\")\n",
        "print(f\"  Address: {fulltime_emp._Employee__emp_address}\")\n",
        "print(f\"  Allowance: {fulltime_emp._Ftime__allowance}\")\n",
        "print(f\"  Rate: {fulltime_emp._Ftime__rate}\")\n",
        "print(f\"  Salary: {ftime_salary._Salary__Salary}\")\n",
        "print(f\"  Cut-off Date: {ftime_salary._Salary__cut_off_date}\")\n",
        "print(f\"  Days Off Work: {ftime_salary._Salary__days_off_work}\")\n",
        "\n",
        "print(\"\\nDetails for the Employee 2 (Part-time): \")\n",
        "print(f\"  ID: {parttime_emp._Employee__emp_id}\")\n",
        "print(f\"  Name: {parttime_emp._Employee__emp_name}\")\n",
        "print(f\"  Address: {parttime_emp._Employee__emp_address}\")\n",
        "print(f\"  Rate: {parttime_emp._Ptime__rate}\")\n",
        "print(f\"  Salary: {ptime_salary._Salary__Salary}\")\n",
        "print(f\"  Cut-off Date: {ptime_salary._Salary__cut_off_date}\")\n",
        "print(f\"  Days Off Work: {ptime_salary._Salary__days_off_work}\")\n"
      ]
    },
    {
      "cell_type": "code",
      "source": [],
      "metadata": {
        "id": "XJ6Djkz4wZlt"
      },
      "execution_count": null,
      "outputs": []
    }
  ]
}