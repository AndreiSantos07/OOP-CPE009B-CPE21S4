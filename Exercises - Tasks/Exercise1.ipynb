{
  "nbformat": 4,
  "nbformat_minor": 0,
  "metadata": {
    "colab": {
      "provenance": [],
      "authorship_tag": "ABX9TyO+NHYWE6NSLpaMoHUoBEHJ",
      "include_colab_link": true
    },
    "kernelspec": {
      "name": "python3",
      "display_name": "Python 3"
    },
    "language_info": {
      "name": "python"
    }
  },
  "cells": [
    {
      "cell_type": "markdown",
      "metadata": {
        "id": "view-in-github",
        "colab_type": "text"
      },
      "source": [
        "<a href=\"https://colab.research.google.com/github/AndreiSantos07/OOP-CPE009B-CPE21S4/blob/main/Exercise1.ipynb\" target=\"_parent\"><img src=\"https://colab.research.google.com/assets/colab-badge.svg\" alt=\"Open In Colab\"/></a>"
      ]
    },
    {
      "cell_type": "code",
      "source": [
        "#class constructor\n",
        "\n",
        "class number:\n",
        "  def __init__(self, x):\n",
        "    self.x = 1\n",
        "    print(self.x)"
      ],
      "metadata": {
        "id": "b4DVSS0jFwPE"
      },
      "execution_count": 88,
      "outputs": []
    },
    {
      "cell_type": "code",
      "source": [
        "#Sperclass / parent class constructor\n",
        "\n",
        "class Person:\n",
        "  def __init__(self, name, age, birthdate):   #defining attributes and identity\n",
        "    self.name = name\n",
        "    self.age = age\n",
        "    self.birthdate = birthdate\n",
        "\n",
        "  def person_attribute(self):   #method constructor\n",
        "      return f\"My name is {self.name} and with an age of {self.age} and birthdate of {self.birthdate}\"\n",
        "\n",
        "class Teacher(Person): #subclass constructor\n",
        "  pass\n",
        "\n",
        "class Student(Person): #subclass constructor\n",
        "  pass\n",
        "\n",
        "class Staff(Person): #subclass constructor\n",
        "  pass\n",
        "\n",
        "#object instantiation\n",
        "person = Person(\"Andrei\", 19, \"September 7, 2005\") #behavior/instance of a class\n",
        "print(person.person_attribute())\n",
        "student = Student(\"Mark\", 20, \"April 20, 2004\")\n",
        "print(student.person_attribute())\n",
        "teacher = Teacher(\"Andrea\", 23, \"December 25, 2024\")\n",
        "print(teacher.person_attribute())\n",
        "staff = Staff(\"Michael\", 24, \"May 15, 2000\")\n",
        "print(staff.person_attribute())\n"
      ],
      "metadata": {
        "colab": {
          "base_uri": "https://localhost:8080/"
        },
        "id": "q99XMtYCHdkT",
        "outputId": "b94503be-a169-4660-8dda-07b07a0ede5b"
      },
      "execution_count": 67,
      "outputs": [
        {
          "output_type": "stream",
          "name": "stdout",
          "text": [
            "My name is Andrei and with an age of 19 and birthdate of September 7, 2005\n",
            "My name is Mark and with an age of 20 and birthdate of April 20, 2004\n",
            "My name is Andrea and with an age of 23 and birthdate of December 25, 2024\n",
            "My name is Michael and with an age of 24 and birthdate of May 15, 2000\n"
          ]
        }
      ]
    },
    {
      "cell_type": "code",
      "source": [
        "#CHALLENGE 1\n",
        "\n",
        "# 1. Superclass named as Shapes\n",
        "\n",
        "class Shapes():\n",
        "  def __init__(self, length = 0, width = 0, side = 0):\n",
        "    # 5. Inherits the attrtibutes of the Superclass Shapes\n",
        "    self.length = length\n",
        "    self.width = width\n",
        "    self.side = side\n",
        "\n",
        "# 2. Subclasses for Rectangle and Square\n",
        "\n",
        "# 2.1 subclass for rectangle\n",
        "class Rectangle(Shapes):\n",
        "  def Perimeter_Rectangle(self):           # 3. methods for Perimeter (Rectangle)\n",
        "    return 2 * (self.length + self.width)\n",
        "\n",
        "  def Area_Rectangle(self):                 # 3. methods for Area (Rectangle)\n",
        "    return self.length * self.width\n",
        "\n",
        "# 2.2 subclass for Square\n",
        "class Square(Shapes):\n",
        "  def Perimeter_Square(self):               # 3. methods for Perimeter (Square)\n",
        "    return 4 * self.side\n",
        "\n",
        "  def Area_Square(self):                    # 3. methods for Area (Square)\n",
        "    return self.side ** 2\n",
        "\n",
        "# 4. Object name for Rectangle and Square\n",
        "rectangle = Rectangle(7, 8)\n",
        "square = Square(side = 4)\n",
        "\n",
        "print(f\"The Perimeter of Rectangle : {rectangle.Perimeter_Rectangle()}\")\n",
        "print(f\"The Area of Rectangle : {rectangle.Area_Rectangle()}\")\n",
        "\n",
        "print(f\"The Perimeter of Square : {square.Area_Square()}\")\n",
        "print(f\"The Area of Square : {square.Area_Square()}\")"
      ],
      "metadata": {
        "colab": {
          "base_uri": "https://localhost:8080/"
        },
        "id": "5MzdtrRhNXgx",
        "outputId": "b35f0d61-d249-4090-ac53-5c97289a163b"
      },
      "execution_count": 101,
      "outputs": [
        {
          "output_type": "stream",
          "name": "stdout",
          "text": [
            "The Perimeter of Rectangle : 30\n",
            "The Area of Rectangle : 56\n",
            "The Perimeter of Square : 16\n",
            "The Area of Square : 16\n"
          ]
        }
      ]
    }
  ]
}
